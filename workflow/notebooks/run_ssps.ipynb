{
 "cells": [
  {
   "cell_type": "code",
   "execution_count": null,
   "id": "5bfa718e-1534-46a6-a515-eeac258a1e8d",
   "metadata": {},
   "outputs": [],
   "source": [
    "import utils\n",
    "import pickle\n",
    "\n",
    "scenarios = [\n",
    "    \"ssp119\",\n",
    "    \"ssp126\",\n",
    "    \"ssp245\",\n",
    "    \"ssp370\",\n",
    "    \"ssp434\",\n",
    "    \"ssp460\",\n",
    "    \"ssp534-over\",\n",
    "    \"ssp585\",\n",
    "]\n",
    "\n",
    "output = \"../../results/fair/\"\n",
    "\n",
    "for scenario in scenarios:\n",
    "    f = utils.gen_fair_ensemble([scenario], final_year=3000, ZEC_year=2100)\n",
    "    \n",
    "    f.run()    \n",
    "                                                                                                                                \n",
    "    with open(output+scenario+\".pkl\", \"wb\") as file:                                                                             \n",
    "        pickle.dump(f, file)            \n",
    "\n",
    "    del(f)\n",
    "\n",
    "f = utils.gen_fair_ensemble([\"ssp245\"], final_year=3000, ZEC_year=2024)\n",
    "    \n",
    "f.run()    \n",
    "                                                                                                                                \n",
    "with open(output+\"historical.pkl\", \"wb\") as file:                                                                             \n",
    "    pickle.dump(f, file)            \n",
    "\n",
    "del(f)"
   ]
  }
 ],
 "metadata": {
  "kernelspec": {
   "display_name": "Python 3 (ipykernel)",
   "language": "python",
   "name": "python3"
  },
  "language_info": {
   "codemirror_mode": {
    "name": "ipython",
    "version": 3
   },
   "file_extension": ".py",
   "mimetype": "text/x-python",
   "name": "python",
   "nbconvert_exporter": "python",
   "pygments_lexer": "ipython3",
   "version": "3.11.7"
  }
 },
 "nbformat": 4,
 "nbformat_minor": 5
}
