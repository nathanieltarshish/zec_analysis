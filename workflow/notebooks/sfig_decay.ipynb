{
 "cells": [
  {
   "cell_type": "code",
   "execution_count": 1,
   "id": "bb5dd437",
   "metadata": {},
   "outputs": [
    {
     "name": "stderr",
     "output_type": "stream",
     "text": [
      "/home/tarshish/micromamba/envs/zec/lib/python3.11/site-packages/tqdm/auto.py:21: TqdmWarning: IProgress not found. Please update jupyter and ipywidgets. See https://ipywidgets.readthedocs.io/en/stable/user_install.html\n",
      "  from .autonotebook import tqdm as notebook_tqdm\n"
     ]
    }
   ],
   "source": [
    "import numpy as np\n",
    "import seaborn as sns\n",
    "import matplotlib.pyplot as plt \n",
    "import matplotlib.colors as mcolors\n",
    "import matplotlib.lines as mlines\n",
    "import faceted as faceted\n",
    "import pandas as pd\n",
    "import xarray as xr\n",
    "import glob\n",
    "import utils\n",
    "import scipy.stats as stats"
   ]
  },
  {
   "cell_type": "code",
   "execution_count": 2,
   "id": "32703e8e-9c1a-46be-8994-7473394f63f9",
   "metadata": {},
   "outputs": [],
   "source": [
    "utils.set_plot_configs(plt, fsize=8)"
   ]
  },
  {
   "cell_type": "code",
   "execution_count": 3,
   "id": "5be9f9d4-90a9-478b-a990-dabc09277734",
   "metadata": {},
   "outputs": [],
   "source": [
    "results_dir = utils.get_path('results')\n",
    "datasets_dir = utils.get_path('datasets')"
   ]
  },
  {
   "cell_type": "code",
   "execution_count": 4,
   "id": "7997ccc6-25dd-4fb8-9aae-00c65846a768",
   "metadata": {},
   "outputs": [],
   "source": [
    "# Historical GMST data\n",
    "df_gmst = pd.read_csv(datasets_dir+\"/fair_calibrate/data/forcing/IGCC_GMST_1850-2022.csv\")\n",
    "gmst = df_gmst[\"gmst\"].values"
   ]
  },
  {
   "cell_type": "code",
   "execution_count": 5,
   "id": "5b37c876-6ede-4d3c-9cff-c3130b924856",
   "metadata": {},
   "outputs": [],
   "source": [
    "ds_decay = xr.open_mfdataset(results_dir+\"/fair/*decay.nc\")"
   ]
  },
  {
   "cell_type": "code",
   "execution_count": 6,
   "id": "efc46c43-0599-431d-af2f-139f5e784e49",
   "metadata": {},
   "outputs": [],
   "source": [
    "ds_zec = xr.open_mfdataset(results_dir+\"/fair/ssp*zec.nc\")"
   ]
  },
  {
   "cell_type": "code",
   "execution_count": 78,
   "id": "e5104bfb-b032-4a96-ba57-1578dc970556",
   "metadata": {},
   "outputs": [
    {
     "data": {
      "image/png": "[encoded data removed]",
      "text/plain": [
       "<Figure size 700x158.244 with 9 Axes>"
      ]
     },
     "metadata": {},
     "output_type": "display_data"
    }
   ],
   "source": [
    "## markersize = 20\n",
    "markershape = \"D\"\n",
    "linewidth = 1\n",
    "markersize = 20\n",
    "\n",
    "fig, axes = faceted.faceted(1,3, width=7, left_pad=0.4,\n",
    "                            right_pad=.2, top_pad=.1,\n",
    "                              bottom_pad=0.3)\n",
    "\n",
    "for scenario, axis in zip(['ssp534-over', 'ssp126', 'ssp119'], axes):\n",
    "    \n",
    "    for ds, linestyle in zip([ds_decay, ds_zec], [\"dashed\",\"solid\"]):\n",
    "        # Right-hand plot: time and temperature anomaly\n",
    "            d = ds.temperature.sel(scenario=scenario).isel(layer=0).median(\"config\")\n",
    "            axis.plot(d.timebound, d, \n",
    "                      color=\"black\", zorder=3,\n",
    "                      linewidth=linewidth, label=utils.get_title(scenario),\n",
    "                      linestyle=linestyle)\n",
    "            \n",
    "            # Scatter points for net-zero times and final temperatures\n",
    "            net_zero_time = utils.get_net_zero_GHG_time(scenario) - 0.5\n",
    "            axis.scatter(net_zero_time,\n",
    "                        d.sel(timebound=net_zero_time),\n",
    "                        zorder=5, color=\"black\", \n",
    "                        marker=markershape, s=markersize)\n",
    "\n",
    "axis.set_ylim([0, 3])\n",
    "axis.set_xlim([1950, 3000])\n",
    "axis.set_xticks(np.arange(2000, 3100, 100), minor=True)  # Simplified x-ticks for clarity\n",
    "axis.set_xticks(np.arange(2000, 3100, 200))  # Simplified x-ticks for clarity\n",
    "\n",
    "labels = [\"a) SSP5-3.4\", \"b) SSP1-2.6\", \"c) SSP1-1.9\"]\n",
    "\n",
    "for ax, label in zip(axes, labels):\n",
    "    ax.text(.03, .9, label, transform=ax.transAxes)\n",
    "\n",
    "axes[0].set_ylabel(r\"$\\Delta$T (${}^\\circ$C)\")\n",
    "\n",
    "axes[0].text(2600, 1.6, \"cessation\", ha=\"center\")\n",
    "axes[0].text(2800, .82, \"ramp-down\", ha=\"center\")\n",
    "\n",
    "sns.despine()\n",
    "\n",
    "# Save and show the figure\n",
    "fig.savefig(results_dir + \"/figures/sfig_decay.pdf\")\n",
    "plt.show()"
   ]
  }
 ],
 "metadata": {
  "kernelspec": {
   "display_name": "Python 3 (ipykernel)",
   "language": "python",
   "name": "python3"
  },
  "language_info": {
   "codemirror_mode": {
    "name": "ipython",
    "version": 3
   },
   "file_extension": ".py",
   "mimetype": "text/x-python",
   "name": "python",
   "nbconvert_exporter": "python",
   "pygments_lexer": "ipython3",
   "version": "3.11.7"
  }
 },
 "nbformat": 4,
 "nbformat_minor": 5
}
