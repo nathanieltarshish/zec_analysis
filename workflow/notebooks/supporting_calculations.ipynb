{
 "cells": [
  {
   "cell_type": "code",
   "execution_count": 6,
   "id": "1b47747e-c4a6-4ecc-9398-6246f7309755",
   "metadata": {},
   "outputs": [
    {
     "name": "stderr",
     "output_type": "stream",
     "text": [
      "/home/tarshish/micromamba/envs/zec/lib/python3.11/site-packages/tqdm/auto.py:21: TqdmWarning: IProgress not found. Please update jupyter and ipywidgets. See https://ipywidgets.readthedocs.io/en/stable/user_install.html\n",
      "  from .autonotebook import tqdm as notebook_tqdm\n"
     ]
    }
   ],
   "source": [
    "import numpy as np \n",
    "import utils\n",
    "import xarray"
   ]
  },
  {
   "cell_type": "code",
   "execution_count": 3,
   "id": "ef564bf9-0ebb-45b6-982e-9e5a97717c10",
   "metadata": {},
   "outputs": [],
   "source": [
    "# AR6 \n",
    "ECS = 3 #K \n",
    "TCR = 1.8 #K \n",
    "\n",
    "# IGCC 2023, https://essd.copernicus.org/articles/16/2625/2024/\n",
    "# all forcing in 2023 rel. to 1750\n",
    "F_anthro = 2.79 #W/m^2 [1.78 - 3.61]  \n",
    "F_CO2 = 2.28 #W/m^2 \n",
    "CO2_ppm = 419 #ppm\n",
    "\n",
    "# GCB, https://essd.copernicus.org/articles/15/5301/2023/essd-15-5301-2023.pdf\n",
    "Cemit = 740 #GtC (Table 8 number for 1750-2022 + 10 GtC for 2023)\n",
    "\n",
    "Af = 0.2 \n",
    "GtC_to_ppm = 2.14\n",
    "CO2_pre = 280 \n",
    "\n",
    "F_0 = F_CO2/np.log(CO2_ppm/CO2_pre)\n",
    "CO2_f = Cemit/GtC_to_ppm*Af + CO2_pre\n",
    "F_f = F_0*np.log(CO2_f/CO2_pre)\n",
    "ZEC_hist = F_f/F_anthro/(TCR/ECS) - 1"
   ]
  },
  {
   "cell_type": "code",
   "execution_count": 4,
   "id": "c79f1a5b-9e96-471b-9f88-7c80f9ee9f69",
   "metadata": {},
   "outputs": [],
   "source": [
    "output = f\"\"\"  \n",
    "-----------------------Supporting_calculations-----------------------------------------------\n",
    "Final radiative forcing absent future emissions (F_f): {F_f:.1f} W/m$^2$\n",
    "Historical ZEC/Tze analytical estimate: {ZEC_hist:.1f}\n",
    "---------------------------------------------------------------------------------------------\n",
    "\"\"\"\n",
    "\n",
    "# with open(snakemake.output.computations_file, \"a\", encoding=\"utf-8\") as file: \n",
    "#     file.write(output)                                                                  \n",
    "                                                                                                      \n",
    "\n",
    "#print(\"Wrote supporting calculations to:\", snakemake.output.computations_file) "
   ]
  },
  {
   "cell_type": "code",
   "execution_count": 7,
   "id": "3187c956-e425-498c-8e33-0e223dc2a6b5",
   "metadata": {},
   "outputs": [],
   "source": [
    "results_dir = utils.get_path('results')"
   ]
  },
  {
   "cell_type": "code",
   "execution_count": 8,
   "id": "6e51b7b2-c1b8-434a-9483-13bdb7fe853b",
   "metadata": {},
   "outputs": [],
   "source": [
    "ds = xr.open_mfdataset(results_dir+\"/fair/*_zec.nc\")"
   ]
  },
  {
   "cell_type": "code",
   "execution_count": 19,
   "id": "2fad298f-3f88-48cb-90e5-ab29017df76c",
   "metadata": {},
   "outputs": [],
   "source": [
    "aerosol_forcing = ds.forcing.sel(specie=['Aerosol-radiation interactions','Aerosol-cloud interactions']).sum(\"specie\")"
   ]
  },
  {
   "cell_type": "code",
   "execution_count": 27,
   "id": "4b58bf42-9d5f-4f9b-a9ab-cda4b2c37b2e",
   "metadata": {},
   "outputs": [
    {
     "name": "stdout",
     "output_type": "stream",
     "text": [
      "Scenario: historical\n",
      "Median: -0.93\n",
      "5-95% Confidence Bounds: (-1.53, -0.41)\n",
      "\n",
      "Scenario: ssp119\n",
      "Median: -0.13\n",
      "5-95% Confidence Bounds: (-0.25, 0.05)\n",
      "\n",
      "Scenario: ssp126\n",
      "Median: -0.12\n",
      "5-95% Confidence Bounds: (-0.24, 0.02)\n",
      "\n",
      "Scenario: ssp534-over\n",
      "Median: -0.20\n",
      "5-95% Confidence Bounds: (-0.54, -0.03)\n",
      "\n"
     ]
    }
   ],
   "source": [
    "for scenario in ds.scenario.values:\n",
    "    aerosol = aerosol_forcing.sel(timebound=utils.get_net_zero_GHG_time(scenario), scenario=scenario,\n",
    "                                  method=\"bfill\")\n",
    "\n",
    "    median = aerosol.quantile(0.5, dim=\"config\")\n",
    "    lower_bound = aerosol.quantile(0.05, dim=\"config\")\n",
    "    upper_bound = aerosol.quantile(0.95, dim=\"config\")\n",
    "    \n",
    "    print(f\"Scenario: {scenario}\")\n",
    "    print(f\"Median: {median.values:.2f}\")\n",
    "    print(f\"5-95% Confidence Bounds: ({lower_bound.values:.2f}, {upper_bound.values:.2f})\\n\")"
   ]
  },
  {
   "cell_type": "code",
   "execution_count": 10,
   "id": "cee1f4a9-71f4-43ed-b78e-81d5dd2eb552",
   "metadata": {},
   "outputs": [
    {
     "name": "stderr",
     "output_type": "stream",
     "text": [
      "/home/tarshish/micromamba/envs/zec/lib/python3.11/site-packages/xarray/core/indexing.py:1446: PerformanceWarning: Slicing is producing a large chunk. To accept the large\n",
      "chunk and silence this warning, set the option\n",
      "    >>> with dask.config.set(**{'array.slicing.split_large_chunks': False}):\n",
      "    ...     array[indexer]\n",
      "\n",
      "To avoid creating the large chunks, set the option\n",
      "    >>> with dask.config.set(**{'array.slicing.split_large_chunks': True}):\n",
      "    ...     array[indexer]\n",
      "  return self.array[key]\n",
      "\n",
      "KeyboardInterrupt\n",
      "\n"
     ]
    }
   ],
   "source": [
    "ds_agg = utils.aggregate_forcings(ds)"
   ]
  },
  {
   "cell_type": "code",
   "execution_count": null,
   "id": "3eb32f45-a099-4781-84b3-898d6ca73a18",
   "metadata": {},
   "outputs": [],
   "source": [
    "ds_agg"
   ]
  }
 ],
 "metadata": {
  "kernelspec": {
   "display_name": "Python 3 (ipykernel)",
   "language": "python",
   "name": "python3"
  },
  "language_info": {
   "codemirror_mode": {
    "name": "ipython",
    "version": 3
   },
   "file_extension": ".py",
   "mimetype": "text/x-python",
   "name": "python",
   "nbconvert_exporter": "python",
   "pygments_lexer": "ipython3",
   "version": "3.11.7"
  }
 },
 "nbformat": 4,
 "nbformat_minor": 5
}
