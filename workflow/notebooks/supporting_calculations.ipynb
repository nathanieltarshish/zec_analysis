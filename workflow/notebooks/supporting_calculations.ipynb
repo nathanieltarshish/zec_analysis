{
 "cells": [
  {
   "cell_type": "code",
   "execution_count": 15,
   "id": "1b47747e-c4a6-4ecc-9398-6246f7309755",
   "metadata": {},
   "outputs": [],
   "source": [
    "import numpy as np \n",
    "import utils\n",
    "import xarray as xr"
   ]
  },
  {
   "cell_type": "code",
   "execution_count": 11,
   "id": "ef564bf9-0ebb-45b6-982e-9e5a97717c10",
   "metadata": {},
   "outputs": [],
   "source": [
    "# AR6 \n",
    "ECS = 3 #K \n",
    "TCR = 1.8 #K \n",
    "\n",
    "# IGCC 2023, https://essd.copernicus.org/articles/16/2625/2024/\n",
    "# all forcing in 2023 rel. to 1750\n",
    "F_anthro = 2.79 #W/m^2 [1.78 - 3.61]  \n",
    "F_CO2 = 2.28 #W/m^2 \n",
    "CO2_ppm = 419 #ppm\n",
    "\n",
    "# GCB, https://essd.copernicus.org/articles/15/5301/2023/essd-15-5301-2023.pdf\n",
    "Cemit = 740 #GtC (Table 8 number for 1750-2022 + 10 GtC for 2023)\n",
    "\n",
    "Af = 0.2 \n",
    "GtC_to_ppm = 2.14\n",
    "CO2_pre = 280 \n",
    "\n",
    "F_0 = F_CO2/np.log(CO2_ppm/CO2_pre)\n",
    "CO2_f = Cemit/GtC_to_ppm*Af + CO2_pre\n",
    "F_f = F_0*np.log(CO2_f/CO2_pre)\n",
    "ZEC_hist = F_f/F_anthro/(TCR/ECS) - 1"
   ]
  },
  {
   "cell_type": "code",
   "execution_count": 12,
   "id": "c79f1a5b-9e96-471b-9f88-7c80f9ee9f69",
   "metadata": {},
   "outputs": [],
   "source": [
    "output = f\"\"\"  \n",
    "-----------------------Supporting_calculations-----------------------------------------------\n",
    "Final radiative forcing absent future emissions (F_f): {F_f:.1f} W/m$^2$\n",
    "Historical ZEC/Tze analytical estimate: {ZEC_hist:.1f}\n",
    "---------------------------------------------------------------------------------------------\n",
    "\"\"\"\n",
    "\n",
    "# with open(snakemake.output.computations_file, \"a\", encoding=\"utf-8\") as file: \n",
    "#     file.write(output)                                                                  \n",
    "                                                                                                      \n",
    "\n",
    "#print(\"Wrote supporting calculations to:\", snakemake.output.computations_file) "
   ]
  },
  {
   "cell_type": "code",
   "execution_count": 13,
   "id": "3187c956-e425-498c-8e33-0e223dc2a6b5",
   "metadata": {},
   "outputs": [],
   "source": [
    "results_dir = utils.get_path('results')"
   ]
  },
  {
   "cell_type": "code",
   "execution_count": 17,
   "id": "6e51b7b2-c1b8-434a-9483-13bdb7fe853b",
   "metadata": {},
   "outputs": [],
   "source": [
    "ds = xr.open_mfdataset(results_dir+\"/fair/*net-zero-zec.nc\")"
   ]
  },
  {
   "cell_type": "code",
   "execution_count": 18,
   "id": "2fad298f-3f88-48cb-90e5-ab29017df76c",
   "metadata": {},
   "outputs": [],
   "source": [
    "aerosol_forcing = ds.forcing.sel(specie=['Aerosol-radiation interactions','Aerosol-cloud interactions']).sum(\"specie\")"
   ]
  },
  {
   "cell_type": "code",
   "execution_count": 19,
   "id": "4b58bf42-9d5f-4f9b-a9ab-cda4b2c37b2e",
   "metadata": {},
   "outputs": [
    {
     "name": "stdout",
     "output_type": "stream",
     "text": [
      "Scenario: ssp119\n",
      "Median: -0.13\n",
      "5-95% Confidence Bounds: (-0.25, 0.05)\n",
      "\n",
      "Scenario: ssp126\n",
      "Median: -0.12\n",
      "5-95% Confidence Bounds: (-0.24, 0.02)\n",
      "\n",
      "Scenario: ssp534-over\n",
      "Median: -0.20\n",
      "5-95% Confidence Bounds: (-0.54, -0.03)\n",
      "\n"
     ]
    }
   ],
   "source": [
    "for scenario in ds.scenario.values:\n",
    "    aerosol = aerosol_forcing.sel(timebound=utils.get_net_zero_GHG_time(scenario), scenario=scenario,\n",
    "                                  method=\"bfill\")\n",
    "\n",
    "    median = aerosol.quantile(0.5, dim=\"config\")\n",
    "    lower_bound = aerosol.quantile(0.05, dim=\"config\")\n",
    "    upper_bound = aerosol.quantile(0.95, dim=\"config\")\n",
    "    \n",
    "    print(f\"Scenario: {scenario}\")\n",
    "    print(f\"Median: {median.values:.2f}\")\n",
    "    print(f\"5-95% Confidence Bounds: ({lower_bound.values:.2f}, {upper_bound.values:.2f})\\n\")"
   ]
  }
 ],
 "metadata": {
  "kernelspec": {
   "display_name": "Python 3 (ipykernel)",
   "language": "python",
   "name": "python3"
  },
  "language_info": {
   "codemirror_mode": {
    "name": "ipython",
    "version": 3
   },
   "file_extension": ".py",
   "mimetype": "text/x-python",
   "name": "python",
   "nbconvert_exporter": "python",
   "pygments_lexer": "ipython3",
   "version": "3.11.7"
  }
 },
 "nbformat": 4,
 "nbformat_minor": 5
}
