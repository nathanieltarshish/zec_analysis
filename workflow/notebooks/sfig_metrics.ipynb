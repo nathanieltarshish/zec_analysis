{
 "cells": [
  {
   "cell_type": "code",
   "execution_count": 53,
   "id": "ed48cd38-91f9-40f2-b3f0-d229d33a3421",
   "metadata": {},
   "outputs": [],
   "source": [
    "import faceted \n",
    "import seaborn as sns \n",
    "import matplotlib.pyplot as plt\n",
    "import utils\n",
    "import os \n",
    "import json\n",
    "import numpy as np"
   ]
  },
  {
   "cell_type": "code",
   "execution_count": 109,
   "id": "10878a50-0016-4ff4-96c7-97fd0405d0c4",
   "metadata": {},
   "outputs": [],
   "source": [
    "utils.set_plot_configs(plt, fsize=8)\n",
    "plt.rcParams['lines.markersize'] = 4"
   ]
  },
  {
   "cell_type": "code",
   "execution_count": 14,
   "id": "edd0c176-d89d-4cdf-bcf5-d56aa2fed0e9",
   "metadata": {},
   "outputs": [
    {
     "name": "stdout",
     "output_type": "stream",
     "text": [
      "Loading in ZECMIP data from data.json... \n"
     ]
    }
   ],
   "source": [
    "results_dir = utils.get_path('results')\n",
    "data = results_dir + '/ZECMIP_data.json'\n",
    "\n",
    "print(\"Loading in ZECMIP data from data.json... \")\n",
    "with open(data) as file:\n",
    "    ZECMIP = json.load(file)\n",
    "    \n",
    "# convert data from lists to arrays\n",
    "for model in ZECMIP.keys():\n",
    "    for exp in [\"750\", \"1000\", \"2000\"]:\n",
    "        if exp in ZECMIP[model].keys():\n",
    "            for var in ZECMIP[model][exp].keys():\n",
    "                ZECMIP[model][exp][var] = np.array(ZECMIP[model][exp][var])"
   ]
  },
  {
   "cell_type": "code",
   "execution_count": 58,
   "id": "4782d667-c260-4481-af7c-ddefab611ff3",
   "metadata": {},
   "outputs": [],
   "source": [
    "del(ZECMIP[\"BERN-ecs3k\"])"
   ]
  },
  {
   "cell_type": "code",
   "execution_count": 79,
   "id": "dda00ce2-cb59-4b77-826e-c96d4405d987",
   "metadata": {},
   "outputs": [],
   "source": [
    "EMICs = ['BERN-ecs2k', 'BERN-ecs3k', 'BERN-ecs5k', 'CLIMBER2', 'DCESS', 'IAPRAS',\n",
    "         'LOVECLIM', 'MESM', 'MIROC-lite', 'PLASIM-GENIE', 'UVic']"
   ]
  },
  {
   "cell_type": "code",
   "execution_count": 80,
   "id": "ea44bf2e-9702-44f6-9e10-d36c87cd4dd7",
   "metadata": {},
   "outputs": [],
   "source": [
    "\n",
    "tab10_colors = plt.cm.tab10.colors\n",
    "\n",
    "full_complexity_models = [\n",
    "    \"ACCESS\", \"CanESM5\", \"CESM\", \"CNRM-ESM2-1\", \n",
    "    \"GFDL-ESM2M\", \"MIROC-ES2L\", \"MPIESM\", \"NorESM2\", \"UKESM1\"\n",
    "]\n",
    "\n",
    "intermediate_complexity_models = [\n",
    "    \"BERN-ecs2k\", \"BERN-ecs5k\", \"CLIMBER2\", \"DCESS\", \n",
    "    \"IAPRAS\", \"LOVECLIM\", \"MESM\", \"MIROC-lite\", \"PLASIM-GENIE\", \"UVic\"\n",
    "]\n",
    "\n",
    "full_complexity_colors = {model: tab10_colors[i % len(tab10_colors)] for i, model in enumerate(full_complexity_models)}\n",
    "intermediate_complexity_colors = {model: tab10_colors[i % len(tab10_colors)] for i, model in enumerate(intermediate_complexity_models)}\n",
    "combined_colors = {**full_complexity_colors, **intermediate_complexity_colors}"
   ]
  },
  {
   "cell_type": "code",
   "execution_count": 110,
   "id": "3c75a564-f564-495b-944a-57eba5f3366e",
   "metadata": {},
   "outputs": [
    {
     "data": {
      "image/png": "[encoded data removed]",
      "text/plain": [
       "<Figure size 700x303 with 9 Axes>"
      ]
     },
     "metadata": {},
     "output_type": "display_data"
    }
   ],
   "source": [
    "fig, axis = faceted.faceted(1, 3, aspect=1.0, width=7, sharex=False, left_pad=.6,\n",
    "                           top_pad=.1, bottom_pad=1.1)\n",
    "\n",
    "xs = []\n",
    "ys = [] \n",
    "\n",
    "# First plot remains unchanged\n",
    "for model in ZECMIP:\n",
    "    xs.append(ZECMIP[model][\"TCR\"])\n",
    "    ys.append(ZECMIP[model][\"1000\"]['ZEC_avg'][-10])\n",
    "    if model in EMICs:\n",
    "        marker = \"D\"\n",
    "    else:\n",
    "        marker = \"o\"\n",
    "    axis[0].scatter(ZECMIP[model][\"TCR\"], ZECMIP[model][\"1000\"]['ZEC_avg'][-10], \n",
    "                    color=combined_colors[model], marker=marker)\n",
    "\n",
    "axis[0].text(.05, .9, \"$R^2 = $ \"+str(np.round(np.corrcoef(xs, ys)[0, 1]**2, 2)), transform=axis[0].transAxes) \n",
    "axis[0].set_xlim([.8, 3.2])\n",
    "\n",
    "# Middle plot: Construct separate legends\n",
    "xs = []\n",
    "ys = [] \n",
    "emic_handles = []\n",
    "full_handles = []\n",
    "\n",
    "for model in ZECMIP:\n",
    "    if model != \"CESM\":\n",
    "        if model in EMICs:\n",
    "            marker = \"D\"\n",
    "            handle = axis[1].scatter(ZECMIP[model][\"ECS\"], ZECMIP[model][\"1000\"]['ZEC_avg'][-10],\n",
    "                                     color=combined_colors[model], marker=marker, label=model)\n",
    "            emic_handles.append(handle)\n",
    "        else:\n",
    "            marker = \"o\"\n",
    "            handle = axis[1].scatter(ZECMIP[model][\"ECS\"], ZECMIP[model][\"1000\"]['ZEC_avg'][-10],\n",
    "                                     color=combined_colors[model], marker=marker, label=model)\n",
    "            full_handles.append(handle)\n",
    "        xs.append(ZECMIP[model][\"ECS\"])\n",
    "        ys.append(ZECMIP[model][\"1000\"]['ZEC_avg'][-10])\n",
    "\n",
    "axis[1].text(.05, .9, \"$R^2 = $ \"+str(np.round(np.corrcoef(xs, ys)[0, 1]**2, 2)), transform=axis[1].transAxes)  \n",
    "axis[1].set_xlim([1, 6.5])\n",
    "axis[1].set_ylim([-1, 1])\n",
    "\n",
    "# Create legends for the middle plot\n",
    "emic_legend = axis[1].legend(handles=emic_handles, frameon=False, loc='upper center',\n",
    "                             bbox_to_anchor=(1.45, -.2), ncol=3, handletextpad=0)\n",
    "axis[1].add_artist(emic_legend)  # Add the EMIC legend first\n",
    "\n",
    "axis[1].legend(handles=full_handles,frameon=False, loc='upper center',\n",
    "               bbox_to_anchor=(-.45, -.2), ncol=3, handletextpad=0)\n",
    "\n",
    "# Third plot remains unchanged\n",
    "xs = []\n",
    "ys = [] \n",
    "for model in ZECMIP:\n",
    "    if model in EMICs:\n",
    "        marker = \"D\"\n",
    "    else:\n",
    "        marker = \"o\"\n",
    "    axis[2].scatter(ZECMIP[model][\"TCRE\"], ZECMIP[model][\"1000\"]['ZEC_avg'][-10], color=combined_colors[model],\n",
    "                    marker=marker)\n",
    "    xs.append(ZECMIP[model][\"TCRE\"])\n",
    "    ys.append(ZECMIP[model][\"1000\"]['ZEC_avg'][-10])\n",
    "    \n",
    "axis[2].text(.05, .9, \"$R^2 = $ \"+str(np.round(np.corrcoef(xs, ys)[0, 1]**2, 2)), transform=axis[2].transAxes)  \n",
    "axis[2].set_xlim([.5, 3])\n",
    "\n",
    "# Common settings\n",
    "for ax in axis:\n",
    "    # ax.axhline(0, color='grey', linestyle='dashed')\n",
    "    ax.set_yticks([-1, -.5, 0, .5, 1])\n",
    "    ax.set_ylim([-1.2,1.2])\n",
    "axis[0].set_ylabel('ZEC [K] at end of simulation')\n",
    "axis[0].set_xlabel('TCR [K]')\n",
    "axis[1].set_xlabel('ECS [K]')\n",
    "axis[2].set_xlabel('TCRE [K/TtC]')\n",
    "\n",
    "sns.despine()\n",
    "\n",
    "fig.savefig(results_dir+\"/figures/sfig_metrics.pdf\")"
   ]
  }
 ],
 "metadata": {
  "kernelspec": {
   "display_name": "Python 3 (ipykernel)",
   "language": "python",
   "name": "python3"
  },
  "language_info": {
   "codemirror_mode": {
    "name": "ipython",
    "version": 3
   },
   "file_extension": ".py",
   "mimetype": "text/x-python",
   "name": "python",
   "nbconvert_exporter": "python",
   "pygments_lexer": "ipython3",
   "version": "3.11.7"
  }
 },
 "nbformat": 4,
 "nbformat_minor": 5
}
