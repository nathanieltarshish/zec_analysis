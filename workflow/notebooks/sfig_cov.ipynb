{
 "cells": [
  {
   "cell_type": "code",
   "execution_count": 8,
   "id": "bb5dd437",
   "metadata": {},
   "outputs": [],
   "source": [
    "import numpy as np\n",
    "import seaborn as sns\n",
    "import pandas as pd\n",
    "import xarray as xr\n",
    "import utils\n",
    "import pickle\n",
    "import scipy.stats as stats\n",
    "import scipy.optimize as optimize\n",
    "import matplotlib.pyplot as plt\n",
    "from scipy.stats import linregress"
   ]
  },
  {
   "cell_type": "code",
   "execution_count": 2,
   "id": "32703e8e-9c1a-46be-8994-7473394f63f9",
   "metadata": {},
   "outputs": [],
   "source": [
    "utils.set_plot_configs(plt, fsize=8)"
   ]
  },
  {
   "cell_type": "code",
   "execution_count": 3,
   "id": "5be9f9d4-90a9-478b-a990-dabc09277734",
   "metadata": {},
   "outputs": [],
   "source": [
    "results_dir = utils.get_path('results')\n",
    "datasets_dir = utils.get_path('datasets')"
   ]
  },
  {
   "cell_type": "code",
   "execution_count": 4,
   "id": "415f9ce3-82b4-431d-97b1-13e08d3f36ab",
   "metadata": {},
   "outputs": [
    {
     "name": "stderr",
     "output_type": "stream",
     "text": [
      "/tmp/ipykernel_153136/2512118233.py:16: DeprecationWarning: dropping variables using `drop` is deprecated; use drop_vars.\n",
      "  dataset = dataset.drop([\"scenario\",\"timebounds\"])\n"
     ]
    }
   ],
   "source": [
    "with open(results_dir+\"/fair/historical_all_2024-zec.pkl\", \"rb\") as file:                                                                            \n",
    "    f = pickle.load(file)    \n",
    "\n",
    "TCR = f.ebms.tcr\n",
    "ECS = f.ebms.ecs\n",
    "\n",
    "Fze = f.forcing_sum.sel(timebounds=2023).isel(scenario=0)\n",
    "Ff = f.forcing_sum.sel(timebounds=3000).isel(scenario=0)\n",
    "\n",
    "Fze.name = \"F$_\\\\text{ze}$\"\n",
    "Ff.name = \"F$_\\\\text{f}$\"\n",
    "TCR.name = \"TCR\"\n",
    "ECS.name = \"ECS\"\n",
    "\n",
    "dataset = xr.merge([TCR,ECS,Fze,Ff], compat=\"override\")\n",
    "dataset = dataset.drop_vars([\"scenario\",\"timebounds\"])\n",
    "data = dataset.to_pandas()"
   ]
  },
  {
   "cell_type": "code",
   "execution_count": 5,
   "id": "b5582b69-2b34-429a-958b-39a1677356de",
   "metadata": {},
   "outputs": [
    {
     "name": "stderr",
     "output_type": "stream",
     "text": [
      "/tmp/ipykernel_153136/216376733.py:3: DeprecationWarning: dropping variables using `drop` is deprecated; use drop_vars.\n",
      "  ds_last = ds_last.drop([\"volcanic\",\"solar\"])\n"
     ]
    }
   ],
   "source": [
    "ds = xr.open_mfdataset(datasets_dir+\"/forster_2023_ERF_ensemble.nc\")\n",
    "ds_last = ds.isel(time=-1)\n",
    "ds_last = ds_last.drop_vars([\"volcanic\",\"solar\"])\n",
    "F_anthro_2022 = ds_last.to_array().sum(\"variable\").load()"
   ]
  },
  {
   "cell_type": "code",
   "execution_count": 6,
   "id": "6d2c8e17-cf5a-48fe-922c-3fbece8da096",
   "metadata": {},
   "outputs": [],
   "source": [
    "F_anthro_2022_kde = stats.gaussian_kde(F_anthro_2022)"
   ]
  },
  {
   "cell_type": "code",
   "execution_count": 12,
   "id": "00af474b-f220-4eeb-a352-43e578a04c9a",
   "metadata": {},
   "outputs": [
    {
     "ename": "TypeError",
     "evalue": "PairGrid.__init__() got an unexpected keyword argument 'width'",
     "output_type": "error",
     "traceback": [
      "\u001b[0;31m---------------------------------------------------------------------------\u001b[0m",
      "\u001b[0;31mTypeError\u001b[0m                                 Traceback (most recent call last)",
      "Cell \u001b[0;32mIn[12], line 67\u001b[0m\n\u001b[1;32m     63\u001b[0m width \u001b[38;5;241m=\u001b[39m \u001b[38;5;241m7\u001b[39m          \n\u001b[1;32m     64\u001b[0m height \u001b[38;5;241m=\u001b[39m width \u001b[38;5;241m*\u001b[39m aspect_ratio\n\u001b[0;32m---> 67\u001b[0m g \u001b[38;5;241m=\u001b[39m \u001b[43msns\u001b[49m\u001b[38;5;241;43m.\u001b[39;49m\u001b[43mPairGrid\u001b[49m\u001b[43m(\u001b[49m\u001b[43mdata\u001b[49m\u001b[43m,\u001b[49m\u001b[43m \u001b[49m\u001b[43mcorner\u001b[49m\u001b[38;5;241;43m=\u001b[39;49m\u001b[38;5;28;43;01mTrue\u001b[39;49;00m\u001b[43m,\u001b[49m\u001b[43m \u001b[49m\u001b[43mheight\u001b[49m\u001b[38;5;241;43m=\u001b[39;49m\u001b[43mheight\u001b[49m\u001b[43m \u001b[49m\u001b[38;5;241;43m/\u001b[39;49m\u001b[43m \u001b[49m\u001b[38;5;28;43mlen\u001b[39;49m\u001b[43m(\u001b[49m\u001b[43mdata\u001b[49m\u001b[38;5;241;43m.\u001b[39;49m\u001b[43mcolumns\u001b[49m\u001b[43m)\u001b[49m\u001b[43m,\u001b[49m\u001b[43m \u001b[49m\u001b[43mdiag_sharey\u001b[49m\u001b[38;5;241;43m=\u001b[39;49m\u001b[38;5;28;43;01mFalse\u001b[39;49;00m\u001b[43m,\u001b[49m\n\u001b[1;32m     68\u001b[0m \u001b[43m                \u001b[49m\u001b[43mwidth\u001b[49m\u001b[38;5;241;43m=\u001b[39;49m\u001b[38;5;241;43m7\u001b[39;49m\u001b[43m)\u001b[49m\n\u001b[1;32m     70\u001b[0m g\u001b[38;5;241m.\u001b[39mmap_lower(density_kde)\n\u001b[1;32m     71\u001b[0m g\u001b[38;5;241m.\u001b[39mmap_diag(diags)\n",
      "\u001b[0;31mTypeError\u001b[0m: PairGrid.__init__() got an unexpected keyword argument 'width'"
     ]
    }
   ],
   "source": [
    "blue = \"#2171b5\"\n",
    "orange = \"#b55221\"\n",
    "x_ecs = np.linspace(0, 8, 500)  # Range for ECS\n",
    "x_tcr = np.linspace(.5, 3.5, 500)  # Range for TCR\n",
    "\n",
    "NINETY_TO_ONESIGMA = stats.norm.ppf(0.95)\n",
    "\n",
    "def opt(x, q05_desired, q50_desired, q95_desired):\n",
    "    \"x is (a, loc, scale) in that order.\"\n",
    "    q05, q50, q95 = stats.skewnorm.ppf(\n",
    "        (0.05, 0.50, 0.95), x[0], loc=x[1], scale=x[2]\n",
    "    )\n",
    "    return (q05 - q05_desired, q50 - q50_desired, q95 - q95_desired)\n",
    "\n",
    "ecs_params = optimize.root(opt, [1, 1, 1], args=(2, 3, 5)).x\n",
    "\n",
    "# Define TCR distribution parameters (normal)\n",
    "tcr_mean = 1.8\n",
    "tcr_std = 0.6 / NINETY_TO_ONESIGMA\n",
    "\n",
    "# Compute PDFs\n",
    "ecs_pdf = stats.skewnorm.pdf(x_ecs, ecs_params[0], loc=ecs_params[1], scale=ecs_params[2])\n",
    "tcr_pdf = stats.norm.pdf(x_tcr, loc=tcr_mean, scale=tcr_std)\n",
    "\n",
    "def density_kde(x, y, **kwargs):\n",
    "    ax = plt.gca()\n",
    "    sns.kdeplot(x=x, y=y, fill=True, cmap=\"Blues\", ax=ax)\n",
    "    slope, intercept, r_value, _, _ = linregress(x, y)\n",
    "    ax.plot(x, slope * np.array(x) + intercept, color=\"black\", lw=1, linestyle=\"dotted\")\n",
    "    # Display R^2 value\n",
    "    r2 = r_value**2\n",
    "    ax.text(0.7, 0.98, f\"$R^2={r2:.1f}$\", transform=ax.transAxes, fontsize=8,\n",
    "            va='top', color=\"black\")\n",
    "\n",
    "def plot_kde(data, x, ax):\n",
    "    kde = stats.gaussian_kde(data)\n",
    "    y = kde.pdf(x)\n",
    "    ax.plot(x,y,color=blue, lw=1.5, zorder=0)\n",
    "    \n",
    "def diags(data, **kwargs):\n",
    "    ax = plt.gca()\n",
    "    if data.name == \"ECS\":\n",
    "        plot_kde(data, x_ecs, ax)\n",
    "        ax.plot(x_ecs, ecs_pdf, color=orange, lw=1.5,zorder=2, linestyle=\"dashed\")\n",
    "        \n",
    "    if data.name == \"TCR\":\n",
    "        plot_kde(data, x_tcr, ax)\n",
    "        ax.plot(x_tcr, tcr_pdf, color=orange, lw=1.5,zorder=2, linestyle=\"dashed\")\n",
    "\n",
    "    if data.name == \"F$_\\\\text{ze}$\":\n",
    "        x_Fze = np.linspace(1,4.5,int(1e3))\n",
    "        plot_kde(data, x_Fze, ax)\n",
    "        ax.plot(x_Fze, F_anthro_2022_kde.pdf(x_Fze), color=orange, \n",
    "                lw=1.5, zorder=2, linestyle=\"dashed\")\n",
    "\n",
    "    if data.name == \"F$_\\\\text{f}$\":\n",
    "        x_Ff = np.linspace(.6,1.7,int(1e3))\n",
    "        plot_kde(data, x_Ff, ax)\n",
    "        \n",
    "    ax.set_ylim([0,None])\n",
    "\n",
    "aspect_ratio = 1  \n",
    "width = 7          \n",
    "height = width * aspect_ratio\n",
    "\n",
    "g = sns.PairGrid(data, corner=True, height=height / len(data.columns), diag_sharey=False)\n",
    "\n",
    "g.map_lower(density_kde)\n",
    "g.map_diag(diags)\n",
    "\n",
    "ax = g.axes[0,0]\n",
    "ax.text(.08, .7, \"AR6\", color=orange, transform=ax.transAxes)\n",
    "ax.text(.56, .88, \"FaIR\", color=blue, transform=ax.transAxes)\n",
    "\n",
    "# Adjust axis limits and ticks\n",
    "limits = [[1, 2, 3], [2, 4, 6], [2, 3, 4], [0.8, 1.2, 1.6]]\n",
    "for i, lim in zip(np.arange(len(data.columns)), limits):\n",
    "    g.axes[i, i].set_xticks(lim)\n",
    "    g.axes[i, i].set_yticks(lim)\n",
    "\n",
    "g.axes[1,0].set_ylim([1,7])\n",
    "g.axes[3,1].set_xlim([1,7])\n",
    "\n",
    "g.axes[2,0].set_ylim([1.5,4.5])\n",
    "g.axes[3,2].set_xlim([1.5,4.5])\n",
    "\n",
    "g.axes[3,0].set_ylim([.8, 1.6])\n",
    "g.axes[3,3].set_xlim([.8, 1.6])\n",
    "\n",
    "g.savefig(results_dir+\"/figures/sfig_cov.pdf\")"
   ]
  }
 ],
 "metadata": {
  "kernelspec": {
   "display_name": "Python 3 (ipykernel)",
   "language": "python",
   "name": "python3"
  },
  "language_info": {
   "codemirror_mode": {
    "name": "ipython",
    "version": 3
   },
   "file_extension": ".py",
   "mimetype": "text/x-python",
   "name": "python",
   "nbconvert_exporter": "python",
   "pygments_lexer": "ipython3",
   "version": "3.11.7"
  }
 },
 "nbformat": 4,
 "nbformat_minor": 5
}
