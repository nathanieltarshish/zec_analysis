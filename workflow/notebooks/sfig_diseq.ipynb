{
 "cells": [
  {
   "cell_type": "code",
   "execution_count": 1,
   "id": "bb5dd437",
   "metadata": {},
   "outputs": [
    {
     "name": "stderr",
     "output_type": "stream",
     "text": [
      "/home/tarshish/micromamba/envs/zec/lib/python3.11/site-packages/tqdm/auto.py:21: TqdmWarning: IProgress not found. Please update jupyter and ipywidgets. See https://ipywidgets.readthedocs.io/en/stable/user_install.html\n",
      "  from .autonotebook import tqdm as notebook_tqdm\n"
     ]
    }
   ],
   "source": [
    "import numpy as np\n",
    "import seaborn as sns\n",
    "import matplotlib.pyplot as plt \n",
    "import matplotlib.colors as mcolors\n",
    "import pandas as pd\n",
    "import xarray as xr\n",
    "import glob\n",
    "import utils\n",
    "import scipy.stats as stats\n",
    "import pickle\n",
    "import faceted\n",
    "from fair.forcing.ghg import meinshausen2020"
   ]
  },
  {
   "cell_type": "code",
   "execution_count": 2,
   "id": "93289376-ce99-4798-a751-2dc05248387a",
   "metadata": {},
   "outputs": [],
   "source": [
    "def compute_final_forcing(f):\n",
    "\n",
    "    GtCO2_to_ppm = f.species_configs.concentration_per_emission.sel(specie=\"CO2\")\n",
    "    preindustrial_concentrations =  f.concentration.isel(timebounds=0)\n",
    "    Af = f.species_configs.partition_fraction.sel(specie=\"CO2\", gasbox=0)\n",
    "    final_concentrations = preindustrial_concentrations + GtCO2_to_ppm*Af*f.cumulative_emissions.sel(specie=\"CO2\")\n",
    "    final_concentrations = final_concentrations.transpose(\"timebounds\", \"scenario\", \"config\", \"specie\")\n",
    "    Ff_CO2 = xr.ones_like(final_concentrations.sel(specie=\"CO2\"))*np.nan\n",
    "    for i_timepoint in np.arange(f._n_timepoints):\n",
    "        Ff_CO2[i_timepoint,...] = meinshausen2020(                                                    \n",
    "                                final_concentrations.values[i_timepoint+1:i_timepoint+2,...],        \n",
    "                                f.species_configs.forcing_reference_concentration.values[None, None, ...]              \n",
    "                                * np.ones(                                                          \n",
    "                                    (1, f._n_scenarios, f._n_configs, f._n_species)        \n",
    "                                ),       \n",
    "                                f.species_configs.forcing_scale.values[None, None, ...]*(1 + f.species_configs[\"tropospheric_adjustment\"].data),\n",
    "                                f.species_configs.greenhouse_gas_radiative_efficiency.values[None, None, ...],         \n",
    "                                f._co2_indices,                                                  \n",
    "                                f._ch4_indices,                                                  \n",
    "                                f._n2o_indices,                                                  \n",
    "                                f._minor_ghg_indices,                                            \n",
    "                    )[0,...,2]\n",
    "    Ff = Ff_CO2 + f.forcing.sel(specie=\"Land use\")\n",
    "    return Ff"
   ]
  },
  {
   "cell_type": "code",
   "execution_count": 3,
   "id": "3d61b864-0d4e-488c-92ca-0d2a697cff2a",
   "metadata": {},
   "outputs": [],
   "source": [
    "def compute_disequilibria(path):\n",
    "    with open(path, \"rb\") as file:                                                                            \n",
    "        f = pickle.load(file)    \n",
    "    \n",
    "    lamb = f.climate_configs.ocean_heat_transfer.isel(layer=0)\n",
    "    Fze = f.forcing_sum\n",
    "    Teq = Fze/lamb \n",
    "    Tnow = f.temperature.isel(layer=0)\n",
    "    Ff = compute_final_forcing(f)\n",
    "    forcing_dis = Ff/Fze\n",
    "    thermal_dis = Tnow/Teq\n",
    "    thermal_dis.name = \"thermal_dis\"\n",
    "    forcing_dis.name = \"forcing_dis\"\n",
    "    ds = xr.merge([thermal_dis, forcing_dis])\n",
    "    ds = ds.median(\"config\")\n",
    "    return ds    "
   ]
  },
  {
   "cell_type": "code",
   "execution_count": 5,
   "id": "32703e8e-9c1a-46be-8994-7473394f63f9",
   "metadata": {},
   "outputs": [],
   "source": [
    "utils.set_plot_configs(plt, fsize=8)"
   ]
  },
  {
   "cell_type": "code",
   "execution_count": 6,
   "id": "5be9f9d4-90a9-478b-a990-dabc09277734",
   "metadata": {},
   "outputs": [],
   "source": [
    "results_dir = utils.get_path('results')\n",
    "datasets_dir = utils.get_path('datasets')"
   ]
  },
  {
   "cell_type": "code",
   "execution_count": 7,
   "id": "8189ea3d-5d33-4194-bc87-8cc4bd2ff2fd",
   "metadata": {},
   "outputs": [],
   "source": [
    "# co2_emissions_21_century = (f.emissions.sel(specie=\"CO2 FFI\") + f.emissions.sel(specie=\"CO2 AFOLU\")).sel(timepoints=slice(2000,2100)).median(\"config\")\n",
    "# net_zero_times = co2_emissions_21_century.timepoints[abs(co2_emissions_21_century).argmin(dim=\"timepoints\")] - .5"
   ]
  },
  {
   "cell_type": "code",
   "execution_count": 8,
   "id": "b20f8315-bdec-43a7-8a4a-c731843eaad3",
   "metadata": {},
   "outputs": [],
   "source": [
    "files = glob.glob(results_dir+\"/fair/*_net-zero-zec.pkl\")\n",
    "\n",
    "dss = []\n",
    "for path in files:\n",
    "    ds = compute_disequilibria(path)\n",
    "    dss.append(ds)"
   ]
  },
  {
   "cell_type": "code",
   "execution_count": 9,
   "id": "718a4ea6-9b4f-4e14-8c4e-b904931d3641",
   "metadata": {},
   "outputs": [],
   "source": [
    "ds = xr.merge(dss)"
   ]
  },
  {
   "cell_type": "code",
   "execution_count": 10,
   "id": "3652946a-2ee0-499f-b4c8-f56e8923bf85",
   "metadata": {},
   "outputs": [],
   "source": [
    "ds = ds.sel(timebounds=slice(2000,2100))"
   ]
  },
  {
   "cell_type": "code",
   "execution_count": 35,
   "id": "d7e73a64-4585-49c4-b0a6-68f91b3b0266",
   "metadata": {},
   "outputs": [
    {
     "data": {
      "image/png": "[encoded data removed]",
      "text/plain": [
       "<Figure size 700x203.333 with 9 Axes>"
      ]
     },
     "metadata": {},
     "output_type": "display_data"
    }
   ],
   "source": [
    "# Assuming faceted and all relevant libraries are already imported as in your script\n",
    "fig, axes = faceted.faceted(1, 3, width=7, aspect=1.0, bottom_pad=.3, left_pad=.5,\n",
    "                            top_pad=.1, right_pad=.2, internal_pad=.7, \n",
    "                            sharey=False)\n",
    "colors = []\n",
    "i = 0\n",
    "for scenario in ds.scenario.values[::-1]:\n",
    "    net_zero_time = int(utils.get_net_zero_GHG_time(scenario))\n",
    "    data = ds.sel(scenario=scenario).sel(timebounds=slice(2000,net_zero_time))\n",
    "    zec = data.forcing_dis/data.thermal_dis - 1\n",
    "\n",
    "    data.thermal_dis.plot(ax=axes[0], color=utils.get_color(scenario), \n",
    "                                                 alpha=.8, label=utils.get_title(scenario))\n",
    "    data.forcing_dis.plot(ax=axes[1], color=utils.get_color(scenario),\n",
    "                                                 alpha=.8, label=utils.get_title(scenario))    \n",
    "    zec.plot(ax=axes[2], color=utils.get_color(scenario), alpha=.8, label=utils.get_title(scenario))\n",
    "\n",
    "    axes[0].scatter(net_zero_time, data.thermal_dis.sel(timebounds=net_zero_time), color=utils.get_color(scenario),\n",
    "                    s=15)\n",
    "    axes[1].scatter(net_zero_time, data.forcing_dis.sel(timebounds=net_zero_time), color=utils.get_color(scenario),\n",
    "                    s=15)\n",
    "    axes[2].scatter(net_zero_time, zec.sel(timebounds=net_zero_time), color=utils.get_color(scenario),\n",
    "                    s=15)\n",
    "\n",
    "    axes[0].text(2005, .35-i, utils.get_title(scenario), color=utils.get_color(scenario), ha=\"left\")\n",
    "    i += .1 \n",
    "    \n",
    "axes[0].axhline(.6, color=\"grey\", linestyle=\"dashed\")\n",
    "axes[0].text(2070, .52, \"$\\mathrm{TCR}\\,/\\,\\mathrm{ECS}$\", ha=\"center\", va=\"center\", color=\"grey\")\n",
    "\n",
    "axes[0].set_ylim([0,1])\n",
    "axes[1].set_ylim([0,1])\n",
    "axes[2].set_ylim([-1,0])\n",
    "\n",
    "for ax in axes:\n",
    "    ax.set_title(\" \" )\n",
    "    ax.set_xlim([2000,2100])\n",
    "    ax.spines['right'].set_visible(False)\n",
    "    ax.spines['top'].set_visible(False)\n",
    "    ax.set_xlabel(\" \")\n",
    "\n",
    "for ax, label in zip(axes, [\"a\", \"b\", \"c\"]):\n",
    "    ax.text(.03, .95, f\"{label})\", transform=ax.transAxes)\n",
    "\n",
    "axes[0].set_ylabel(\"$\\mathrm{T \\,}/\\\\widetilde{\\, \\mathrm{T}}$\")\n",
    "axes[1].set_ylabel(\"$\\mathrm{F}_\\mathrm{f}\\,$/$\\,\\,\\mathrm{F}_\\mathrm{ze}$\")\n",
    "axes[2].set_ylabel(\"$\\mathrm{ZEC\\,}/\\,\\mathrm{T}_\\mathrm{ze}$\")\n",
    "\n",
    "fig.savefig(results_dir+\"/figures/sfig_diseq.pdf\")"
   ]
  },
  {
   "cell_type": "code",
   "execution_count": 12,
   "id": "126362a6-9098-4781-8305-2859f6953f84",
   "metadata": {},
   "outputs": [],
   "source": [
    "# # Assuming faceted and all relevant libraries are already imported as in your script\n",
    "# fig, axes = faceted.faceted(1, 3, width=7, sharey=False,\n",
    "#                              aspect=1.0, bottom_pad=.5, left_pad=.6,\n",
    "#                              top_pad=.3, right_pad=1.2, internal_pad=.7)\n",
    "# colors = []\n",
    "# for scenario in f.scenarios:\n",
    "#     f.forcing_sum.sel(scenario=scenario).median(\"config\").sel(timebounds=slice(2000,2100)).plot(ax=axes[0], color=ar6_colors[scenario], alpha=.8, label=fancy_titles[scenario])\n",
    "\n",
    "#     forcing_net_zero = f.forcing_sum.sel(scenario=scenario).median(\"config\").sel(timebounds=net_zero_times.sel(scenario=scenario).values)\n",
    "    \n",
    "#     axes[0].scatter(forcing_net_zero.timebounds.values, \n",
    "#                     forcing_net_zero.values, \n",
    "#                  zorder=5, color=ar6_colors[scenario]) \n",
    "\n",
    "\n",
    "#     Ff.sel(scenario=scenario).median(\"config\").sel(timebounds=slice(2000,2100)).plot(ax=axes[1], color=ar6_colors[scenario], alpha=.8, label=fancy_titles[scenario])\n",
    "#     f.temperature.isel(layer=0).sel(scenario=scenario).median(\"config\").sel(timebounds=slice(2000,2100)).plot(ax=axes[2], color=ar6_colors[scenario], alpha=.8, label=fancy_titles[scenario])\n",
    "\n",
    "#     #f.emissions.sel(specie=\"CO2\").sel(scenario=scenario).median(\"config\").sel(timepoints=slice(2000,2100)).plot(ax=axes[1], color=ar6_colors[scenario], alpha=.8, label=fancy_titles[scenario])\n",
    "#     colors.append(ar6_colors[scenario])\n",
    "\n",
    "# axes[1].axhline(.6, color=\"grey\", linestyle=\"dashed\")\n",
    "# axes[1].text(2085, .63, \"TCR/ECS\", ha=\"center\", va=\"center\", fontsize=10, color=\"grey\")\n",
    "\n",
    "# for ax in axes:\n",
    "#     #ax.set_ylim([.1,.9])\n",
    "#     ax.set_title(\" \" )\n",
    "#     ax.set_xlim([2000,2100])\n",
    "#     ax.spines['right'].set_visible(False)\n",
    "#     ax.spines['top'].set_visible(False)\n",
    "#     ax.grid()\n",
    "#     #ax.set_xlabel(\" \")\n",
    "\n",
    "# axes[0].text(.03, .95, \"a)\", transform=axes[0].transAxes)\n",
    "# axes[1].text(.03, .95, \"b)\", transform=axes[1].transAxes)\n",
    "# axes[1].legend(fontsize=10, handlelength=.6, handletextpad=.4, frameon=False, loc=\"lower right\", labelcolor=colors)\n",
    "               \n",
    "# axes[0].set_ylabel(\"transient forcing\")\n",
    "# axes[1].set_ylabel(\"final forcing\")"
   ]
  },
  {
   "cell_type": "code",
   "execution_count": 13,
   "id": "e206dd4f-b715-4e2a-b667-3232020b57a6",
   "metadata": {},
   "outputs": [],
   "source": [
    "# fig, (axis,) = faceted.faceted(1,1, aspect=1, width=4)\n",
    "\n",
    "# for scenario in f.scenarios:\n",
    "\n",
    "#     y = f.forcing_sum.sel(scenario=scenario).sel(timebounds=slice(None, net_zero_times.sel(scenario=scenario).values)).median(\"config\")\n",
    "#     x = f.cumulative_emissions.sel(specie=\"CO2\", scenario=scenario).sel(timebounds=slice(None, net_zero_times.sel(scenario=scenario).values)).median(\"config\")\n",
    "\n",
    "#     axis.plot(x, y, color=ar6_colors[scenario], alpha=.8, label=fancy_titles[scenario])\n",
    "\n",
    "# axis.set_ylim(0,None)\n",
    "# axis.set_xlim(0,None)\n",
    "# axis.set_xlabel(\"$C_{emit}$\\,\\,[GtC]\")\n",
    "# axis.set_ylabel(\"$F\\,\\,$ [W/m$^2$]\")\n",
    "# fig.savefig(\"/home/tarshish/Documents/research/ZEC/results/forcing_vs_Cemit.pdf\", bbox_inches=\"tight\")"
   ]
  },
  {
   "cell_type": "code",
   "execution_count": 14,
   "id": "01e1ac87-2899-4643-8a69-57bbbaf96f9c",
   "metadata": {},
   "outputs": [],
   "source": [
    "# def remove_CO2(f):\n",
    "#     delta_f = f.forcing_sum - f.forcing.sel(specie=\"CO2\") \n",
    "#     return delta_f"
   ]
  },
  {
   "cell_type": "code",
   "execution_count": 15,
   "id": "6c78d8dd-6b1d-40b7-9c66-e7c6dbfcdf44",
   "metadata": {},
   "outputs": [],
   "source": [
    "# f.cumulative_emissions.isel(specie=2).sel(timebounds=slice(2024,2060)).median(\"config\").plot.line(x=\"timebounds\")"
   ]
  },
  {
   "cell_type": "code",
   "execution_count": 16,
   "id": "eedf5078-54a7-4019-9317-05b96f4ce2e9",
   "metadata": {},
   "outputs": [],
   "source": [
    "# fig, (axis,) = faceted.faceted(1,1)\n",
    "\n",
    "# y = f.temperature.isel(layer=0, scenario=0).sel(timebounds=slice(2024,2060))\n",
    "# x = f.temperature.sel(timebounds=slice(2024,2060)).timebounds\n",
    "\n",
    "# utils.plot_median(x,y,axis,spread=[25,75])\n",
    "\n",
    "# axis.set_xlabel(\" \")\n",
    "# axis.set_title(\" \")"
   ]
  }
 ],
 "metadata": {
  "kernelspec": {
   "display_name": "Python 3 (ipykernel)",
   "language": "python",
   "name": "python3"
  },
  "language_info": {
   "codemirror_mode": {
    "name": "ipython",
    "version": 3
   },
   "file_extension": ".py",
   "mimetype": "text/x-python",
   "name": "python",
   "nbconvert_exporter": "python",
   "pygments_lexer": "ipython3",
   "version": "3.11.7"
  }
 },
 "nbformat": 4,
 "nbformat_minor": 5
}
